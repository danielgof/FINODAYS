{
  "cells": [
    {
      "cell_type": "code",
      "execution_count": 90,
      "source": [
        "import pandas as pd\r\n",
        "from sklearn.model_selection import train_test_split\r\n",
        "import nltk\r\n",
        "import string\r\n",
        "from nltk.corpus import stopwords\r\n",
        "from nltk.tokenize import word_tokenize\r\n",
        "from nltk.stem import SnowballStemmer\r\n",
        "nltk.download('punkt')\r\n",
        "nltk.download('stopwords')\r\n",
        "from sklearn.pipeline import Pipeline\r\n",
        "from sklearn.linear_model import LogisticRegression\r\n",
        "from sklearn.feature_extraction.text import TfidfVectorizer\r\n",
        "from sklearn.metrics import precision_score, recall_score, precision_recall_curve\r\n",
        "from matplotlib import pyplot as plt\r\n",
        "from sklearn.metrics import plot_precision_recall_curve\r\n",
        "import numpy as np\r\n",
        "from sklearn.model_selection import GridSearchCV"
      ],
      "outputs": [
        {
          "output_type": "stream",
          "name": "stderr",
          "text": [
            "[nltk_data] Downloading package punkt to\n",
            "[nltk_data]     C:\\Users\\ACER\\AppData\\Roaming\\nltk_data...\n",
            "[nltk_data]   Package punkt is already up-to-date!\n",
            "[nltk_data] Downloading package stopwords to\n",
            "[nltk_data]     C:\\Users\\ACER\\AppData\\Roaming\\nltk_data...\n",
            "[nltk_data]   Package stopwords is already up-to-date!\n"
          ]
        }
      ],
      "metadata": {}
    },
    {
      "cell_type": "code",
      "execution_count": 91,
      "source": [
        "pip install openpyxl"
      ],
      "outputs": [
        {
          "output_type": "stream",
          "name": "stdout",
          "text": [
            "Requirement already satisfied: openpyxl in c:\\users\\acer\\anaconda3\\lib\\site-packages (3.0.7)\n",
            "Requirement already satisfied: et-xmlfile in c:\\users\\acer\\anaconda3\\lib\\site-packages (from openpyxl) (1.0.1)Note: you may need to restart the kernel to use updated packages.\n",
            "\n"
          ]
        }
      ],
      "metadata": {}
    },
    {
      "cell_type": "code",
      "execution_count": 92,
      "source": [
        "df = pd.read_excel('text_rating_final.xlsx')"
      ],
      "outputs": [],
      "metadata": {}
    },
    {
      "cell_type": "code",
      "execution_count": 93,
      "source": [
        "df.shape"
      ],
      "outputs": [
        {
          "output_type": "execute_result",
          "data": {
            "text/plain": [
              "(32436, 3)"
            ]
          },
          "metadata": {},
          "execution_count": 93
        }
      ],
      "metadata": {}
    },
    {
      "cell_type": "code",
      "execution_count": 94,
      "source": [
        "df.columns=[\"comment\", \"type\", 2]"
      ],
      "outputs": [],
      "metadata": {}
    },
    {
      "cell_type": "code",
      "execution_count": 95,
      "source": [
        "df_new = df.drop([2], axis=1)"
      ],
      "outputs": [],
      "metadata": {}
    },
    {
      "cell_type": "code",
      "execution_count": 96,
      "source": [
        "df_new.head(9)"
      ],
      "outputs": [
        {
          "output_type": "execute_result",
          "data": {
            "text/html": [
              "<div>\n",
              "<style scoped>\n",
              "    .dataframe tbody tr th:only-of-type {\n",
              "        vertical-align: middle;\n",
              "    }\n",
              "\n",
              "    .dataframe tbody tr th {\n",
              "        vertical-align: top;\n",
              "    }\n",
              "\n",
              "    .dataframe thead th {\n",
              "        text-align: right;\n",
              "    }\n",
              "</style>\n",
              "<table border=\"1\" class=\"dataframe\">\n",
              "  <thead>\n",
              "    <tr style=\"text-align: right;\">\n",
              "      <th></th>\n",
              "      <th>comment</th>\n",
              "      <th>type</th>\n",
              "    </tr>\n",
              "  </thead>\n",
              "  <tbody>\n",
              "    <tr>\n",
              "      <th>0</th>\n",
              "      <td>Когда возникнут трудности, они тебе не помогут...</td>\n",
              "      <td>0</td>\n",
              "    </tr>\n",
              "    <tr>\n",
              "      <th>1</th>\n",
              "      <td>Кривая национализация это политический компром...</td>\n",
              "      <td>-1</td>\n",
              "    </tr>\n",
              "    <tr>\n",
              "      <th>2</th>\n",
              "      <td>Такой вид биологического оружия не действует н...</td>\n",
              "      <td>-2</td>\n",
              "    </tr>\n",
              "    <tr>\n",
              "      <th>3</th>\n",
              "      <td>В Эль-Кусейре /к западу от Хомса/ сирийские по...</td>\n",
              "      <td>0</td>\n",
              "    </tr>\n",
              "    <tr>\n",
              "      <th>4</th>\n",
              "      <td>В том числе, ограничениями на продажу спиртных...</td>\n",
              "      <td>0</td>\n",
              "    </tr>\n",
              "    <tr>\n",
              "      <th>5</th>\n",
              "      <td>бактериофобия, верминофобия, вермифобия, гельм...</td>\n",
              "      <td>-1</td>\n",
              "    </tr>\n",
              "    <tr>\n",
              "      <th>6</th>\n",
              "      <td>Авиа и артиллерийские удары были нанесены по у...</td>\n",
              "      <td>0</td>\n",
              "    </tr>\n",
              "    <tr>\n",
              "      <th>7</th>\n",
              "      <td>Президент Сирии также ответил на обвинения в а...</td>\n",
              "      <td>-1</td>\n",
              "    </tr>\n",
              "    <tr>\n",
              "      <th>8</th>\n",
              "      <td>Во двор въехали две лошади. Это были сыновья Т...</td>\n",
              "      <td>0</td>\n",
              "    </tr>\n",
              "  </tbody>\n",
              "</table>\n",
              "</div>"
            ],
            "text/plain": [
              "                                             comment type\n",
              "0  Когда возникнут трудности, они тебе не помогут...    0\n",
              "1  Кривая национализация это политический компром...   -1\n",
              "2  Такой вид биологического оружия не действует н...   -2\n",
              "3  В Эль-Кусейре /к западу от Хомса/ сирийские по...    0\n",
              "4  В том числе, ограничениями на продажу спиртных...    0\n",
              "5  бактериофобия, верминофобия, вермифобия, гельм...   -1\n",
              "6  Авиа и артиллерийские удары были нанесены по у...    0\n",
              "7  Президент Сирии также ответил на обвинения в а...   -1\n",
              "8  Во двор въехали две лошади. Это были сыновья Т...    0"
            ]
          },
          "metadata": {},
          "execution_count": 96
        }
      ],
      "metadata": {}
    },
    {
      "cell_type": "code",
      "execution_count": 97,
      "source": [
        "df_new.loc[(df_new.type == - 2), 'type'] = -1"
      ],
      "outputs": [],
      "metadata": {}
    },
    {
      "cell_type": "code",
      "execution_count": 98,
      "source": [
        "df_new.loc[(df_new.type == 2), 'type'] = 1"
      ],
      "outputs": [],
      "metadata": {}
    },
    {
      "cell_type": "code",
      "execution_count": 99,
      "source": [
        "df_new"
      ],
      "outputs": [
        {
          "output_type": "execute_result",
          "data": {
            "text/html": [
              "<div>\n",
              "<style scoped>\n",
              "    .dataframe tbody tr th:only-of-type {\n",
              "        vertical-align: middle;\n",
              "    }\n",
              "\n",
              "    .dataframe tbody tr th {\n",
              "        vertical-align: top;\n",
              "    }\n",
              "\n",
              "    .dataframe thead th {\n",
              "        text-align: right;\n",
              "    }\n",
              "</style>\n",
              "<table border=\"1\" class=\"dataframe\">\n",
              "  <thead>\n",
              "    <tr style=\"text-align: right;\">\n",
              "      <th></th>\n",
              "      <th>comment</th>\n",
              "      <th>type</th>\n",
              "    </tr>\n",
              "  </thead>\n",
              "  <tbody>\n",
              "    <tr>\n",
              "      <th>0</th>\n",
              "      <td>Когда возникнут трудности, они тебе не помогут...</td>\n",
              "      <td>0</td>\n",
              "    </tr>\n",
              "    <tr>\n",
              "      <th>1</th>\n",
              "      <td>Кривая национализация это политический компром...</td>\n",
              "      <td>-1</td>\n",
              "    </tr>\n",
              "    <tr>\n",
              "      <th>2</th>\n",
              "      <td>Такой вид биологического оружия не действует н...</td>\n",
              "      <td>-1</td>\n",
              "    </tr>\n",
              "    <tr>\n",
              "      <th>3</th>\n",
              "      <td>В Эль-Кусейре /к западу от Хомса/ сирийские по...</td>\n",
              "      <td>0</td>\n",
              "    </tr>\n",
              "    <tr>\n",
              "      <th>4</th>\n",
              "      <td>В том числе, ограничениями на продажу спиртных...</td>\n",
              "      <td>0</td>\n",
              "    </tr>\n",
              "    <tr>\n",
              "      <th>...</th>\n",
              "      <td>...</td>\n",
              "      <td>...</td>\n",
              "    </tr>\n",
              "    <tr>\n",
              "      <th>32431</th>\n",
              "      <td>Это помогло Соединенным Штатам прорубить окно ...</td>\n",
              "      <td>0</td>\n",
              "    </tr>\n",
              "    <tr>\n",
              "      <th>32432</th>\n",
              "      <td>Она уже вернулась на УИК. Член ПСГ Строгин от ...</td>\n",
              "      <td>-1</td>\n",
              "    </tr>\n",
              "    <tr>\n",
              "      <th>32433</th>\n",
              "      <td>Всего было две линии обороны: в первую входили...</td>\n",
              "      <td>-1</td>\n",
              "    </tr>\n",
              "    <tr>\n",
              "      <th>32434</th>\n",
              "      <td>5. Западный образ жизни несовместим с выживани...</td>\n",
              "      <td>-1</td>\n",
              "    </tr>\n",
              "    <tr>\n",
              "      <th>32435</th>\n",
              "      <td>Оригинал взят у в Светлая память - защитнику О...</td>\n",
              "      <td>0</td>\n",
              "    </tr>\n",
              "  </tbody>\n",
              "</table>\n",
              "<p>32436 rows × 2 columns</p>\n",
              "</div>"
            ],
            "text/plain": [
              "                                                 comment type\n",
              "0      Когда возникнут трудности, они тебе не помогут...    0\n",
              "1      Кривая национализация это политический компром...   -1\n",
              "2      Такой вид биологического оружия не действует н...   -1\n",
              "3      В Эль-Кусейре /к западу от Хомса/ сирийские по...    0\n",
              "4      В том числе, ограничениями на продажу спиртных...    0\n",
              "...                                                  ...  ...\n",
              "32431  Это помогло Соединенным Штатам прорубить окно ...    0\n",
              "32432  Она уже вернулась на УИК. Член ПСГ Строгин от ...   -1\n",
              "32433  Всего было две линии обороны: в первую входили...   -1\n",
              "32434  5. Западный образ жизни несовместим с выживани...   -1\n",
              "32435  Оригинал взят у в Светлая память - защитнику О...    0\n",
              "\n",
              "[32436 rows x 2 columns]"
            ]
          },
          "metadata": {},
          "execution_count": 99
        }
      ],
      "metadata": {}
    },
    {
      "cell_type": "code",
      "execution_count": 100,
      "source": [
        "df_new[\"type\"].value_counts()"
      ],
      "outputs": [
        {
          "output_type": "execute_result",
          "data": {
            "text/plain": [
              "0               16967\n",
              "-1              12264\n",
              "1                3188\n",
              " совершенный        4\n",
              "Name: type, dtype: int64"
            ]
          },
          "metadata": {},
          "execution_count": 100
        }
      ],
      "metadata": {}
    },
    {
      "cell_type": "code",
      "execution_count": 101,
      "source": [
        "pd.isnull(df_new[\"type\"]).value_counts()"
      ],
      "outputs": [
        {
          "output_type": "execute_result",
          "data": {
            "text/plain": [
              "False    32423\n",
              "True        13\n",
              "Name: type, dtype: int64"
            ]
          },
          "metadata": {},
          "execution_count": 101
        }
      ],
      "metadata": {}
    },
    {
      "cell_type": "code",
      "execution_count": 102,
      "source": [
        "df_new = df_new.dropna(subset=['type'])"
      ],
      "outputs": [],
      "metadata": {}
    },
    {
      "cell_type": "code",
      "execution_count": 103,
      "source": [
        "pd.isnull(df_new[\"type\"]).value_counts()"
      ],
      "outputs": [
        {
          "output_type": "execute_result",
          "data": {
            "text/plain": [
              "False    32423\n",
              "Name: type, dtype: int64"
            ]
          },
          "metadata": {},
          "execution_count": 103
        }
      ],
      "metadata": {}
    },
    {
      "cell_type": "code",
      "execution_count": 104,
      "source": [
        "train_df, test_df = train_test_split(df_new, test_size=31000)"
      ],
      "outputs": [],
      "metadata": {}
    },
    {
      "cell_type": "code",
      "execution_count": null,
      "source": [],
      "outputs": [],
      "metadata": {}
    },
    {
      "cell_type": "code",
      "execution_count": null,
      "source": [],
      "outputs": [],
      "metadata": {}
    },
    {
      "cell_type": "code",
      "execution_count": 105,
      "source": [
        "pd.isnull(test_df[\"type\"]).value_counts()"
      ],
      "outputs": [
        {
          "output_type": "execute_result",
          "data": {
            "text/plain": [
              "False    31000\n",
              "Name: type, dtype: int64"
            ]
          },
          "metadata": {},
          "execution_count": 105
        }
      ],
      "metadata": {}
    },
    {
      "cell_type": "code",
      "execution_count": 106,
      "source": [
        "pd.isnull(train_df[\"type\"]).value_counts()"
      ],
      "outputs": [
        {
          "output_type": "execute_result",
          "data": {
            "text/plain": [
              "False    1423\n",
              "Name: type, dtype: int64"
            ]
          },
          "metadata": {},
          "execution_count": 106
        }
      ],
      "metadata": {}
    },
    {
      "cell_type": "code",
      "execution_count": 107,
      "source": [
        "sentence_example = df.iloc[1][\"comment\"]\r\n",
        "tokens = word_tokenize(sentence_example, language=\"russian\")\r\n",
        "tokens_without_punctuation = [i for i in tokens if i not in string.punctuation]\r\n",
        "russian_stop_words = stopwords.words(\"russian\")\r\n",
        "tokens_without_stop_words_and_punctuation = [i for i in tokens_without_punctuation if i not in russian_stop_words]\r\n",
        "snowball = SnowballStemmer(language=\"russian\")\r\n",
        "stemmed_tokens = [snowball.stem(i) for i in tokens_without_stop_words_and_punctuation]"
      ],
      "outputs": [],
      "metadata": {}
    },
    {
      "cell_type": "code",
      "execution_count": 108,
      "source": [
        "print(f\"Исходный текст: {sentence_example}\")\r\n",
        "print(\"-----------------\")\r\n",
        "print(f\"Токены: {tokens}\")\r\n",
        "print(\"-----------------\")\r\n",
        "print(f\"Токены без пунктуации: {tokens_without_punctuation}\")\r\n",
        "print(\"-----------------\")\r\n",
        "print(f\"Токены без пунктуации и стоп слов: {tokens_without_stop_words_and_punctuation}\")\r\n",
        "print(\"-----------------\")\r\n",
        "print(f\"Токены после стемминга: {stemmed_tokens}\")\r\n",
        "print(\"-----------------\")"
      ],
      "outputs": [
        {
          "output_type": "stream",
          "name": "stdout",
          "text": [
            "Исходный текст: Кривая национализация это политический компромисс. С одной стороны, многочисленные рантье, возникшие вследствие приватизации, сохранили возможность и дальше получать свою ренту. Этот паразитический класс даже существенно увеличился в размере, пополнившись многочисленными представителями силовой бюрократии, не успевшими к первой раздаче. С другой стороны, все они превратились в условных держателей активов, распоряжающихся ими с разрешения правительства, которое накладывает на них разнообразные обременения как социального, так и коррупционного характера.Эта уродливая система, основанная на слегка задрапированном голом насилии, не решая ни одной из проблем, порожденных приватизацией, добавила к ним новые проблемы, ставшие следствием порождаемого ею правового беспредела. Именно попытка осуществить скрытую национализацию привела к окончательному превращению России в мафиозное государство. Путин лечил Россию, но не вылечил.\n",
            "-----------------\n",
            "Токены: ['Кривая', 'национализация', 'это', 'политический', 'компромисс', '.', 'С', 'одной', 'стороны', ',', 'многочисленные', 'рантье', ',', 'возникшие', 'вследствие', 'приватизации', ',', 'сохранили', 'возможность', 'и', 'дальше', 'получать', 'свою', 'ренту', '.', 'Этот', 'паразитический', 'класс', 'даже', 'существенно', 'увеличился', 'в', 'размере', ',', 'пополнившись', 'многочисленными', 'представителями', 'силовой', 'бюрократии', ',', 'не', 'успевшими', 'к', 'первой', 'раздаче', '.', 'С', 'другой', 'стороны', ',', 'все', 'они', 'превратились', 'в', 'условных', 'держателей', 'активов', ',', 'распоряжающихся', 'ими', 'с', 'разрешения', 'правительства', ',', 'которое', 'накладывает', 'на', 'них', 'разнообразные', 'обременения', 'как', 'социального', ',', 'так', 'и', 'коррупционного', 'характера.Эта', 'уродливая', 'система', ',', 'основанная', 'на', 'слегка', 'задрапированном', 'голом', 'насилии', ',', 'не', 'решая', 'ни', 'одной', 'из', 'проблем', ',', 'порожденных', 'приватизацией', ',', 'добавила', 'к', 'ним', 'новые', 'проблемы', ',', 'ставшие', 'следствием', 'порождаемого', 'ею', 'правового', 'беспредела', '.', 'Именно', 'попытка', 'осуществить', 'скрытую', 'национализацию', 'привела', 'к', 'окончательному', 'превращению', 'России', 'в', 'мафиозное', 'государство', '.', 'Путин', 'лечил', 'Россию', ',', 'но', 'не', 'вылечил', '.']\n",
            "-----------------\n",
            "Токены без пунктуации: ['Кривая', 'национализация', 'это', 'политический', 'компромисс', 'С', 'одной', 'стороны', 'многочисленные', 'рантье', 'возникшие', 'вследствие', 'приватизации', 'сохранили', 'возможность', 'и', 'дальше', 'получать', 'свою', 'ренту', 'Этот', 'паразитический', 'класс', 'даже', 'существенно', 'увеличился', 'в', 'размере', 'пополнившись', 'многочисленными', 'представителями', 'силовой', 'бюрократии', 'не', 'успевшими', 'к', 'первой', 'раздаче', 'С', 'другой', 'стороны', 'все', 'они', 'превратились', 'в', 'условных', 'держателей', 'активов', 'распоряжающихся', 'ими', 'с', 'разрешения', 'правительства', 'которое', 'накладывает', 'на', 'них', 'разнообразные', 'обременения', 'как', 'социального', 'так', 'и', 'коррупционного', 'характера.Эта', 'уродливая', 'система', 'основанная', 'на', 'слегка', 'задрапированном', 'голом', 'насилии', 'не', 'решая', 'ни', 'одной', 'из', 'проблем', 'порожденных', 'приватизацией', 'добавила', 'к', 'ним', 'новые', 'проблемы', 'ставшие', 'следствием', 'порождаемого', 'ею', 'правового', 'беспредела', 'Именно', 'попытка', 'осуществить', 'скрытую', 'национализацию', 'привела', 'к', 'окончательному', 'превращению', 'России', 'в', 'мафиозное', 'государство', 'Путин', 'лечил', 'Россию', 'но', 'не', 'вылечил']\n",
            "-----------------\n",
            "Токены без пунктуации и стоп слов: ['Кривая', 'национализация', 'это', 'политический', 'компромисс', 'С', 'одной', 'стороны', 'многочисленные', 'рантье', 'возникшие', 'вследствие', 'приватизации', 'сохранили', 'возможность', 'дальше', 'получать', 'ренту', 'Этот', 'паразитический', 'класс', 'существенно', 'увеличился', 'размере', 'пополнившись', 'многочисленными', 'представителями', 'силовой', 'бюрократии', 'успевшими', 'первой', 'раздаче', 'С', 'стороны', 'превратились', 'условных', 'держателей', 'активов', 'распоряжающихся', 'ими', 'разрешения', 'правительства', 'которое', 'накладывает', 'разнообразные', 'обременения', 'социального', 'коррупционного', 'характера.Эта', 'уродливая', 'система', 'основанная', 'слегка', 'задрапированном', 'голом', 'насилии', 'решая', 'одной', 'проблем', 'порожденных', 'приватизацией', 'добавила', 'новые', 'проблемы', 'ставшие', 'следствием', 'порождаемого', 'ею', 'правового', 'беспредела', 'Именно', 'попытка', 'осуществить', 'скрытую', 'национализацию', 'привела', 'окончательному', 'превращению', 'России', 'мафиозное', 'государство', 'Путин', 'лечил', 'Россию', 'вылечил']\n",
            "-----------------\n",
            "Токены после стемминга: ['крив', 'национализац', 'эт', 'политическ', 'компромисс', 'с', 'одн', 'сторон', 'многочислен', 'рант', 'возникш', 'вследств', 'приватизац', 'сохран', 'возможн', 'дальш', 'получа', 'рент', 'этот', 'паразитическ', 'класс', 'существен', 'увелич', 'размер', 'пополн', 'многочислен', 'представител', 'силов', 'бюрократ', 'успевш', 'перв', 'раздач', 'с', 'сторон', 'преврат', 'условн', 'держател', 'актив', 'распоряжа', 'им', 'разрешен', 'правительств', 'котор', 'накладыва', 'разнообразн', 'обременен', 'социальн', 'коррупцион', 'характера.эт', 'уродлив', 'систем', 'основа', 'слегк', 'задрапирова', 'гол', 'насил', 'реш', 'одн', 'пробл', 'порожден', 'приватизац', 'добав', 'нов', 'проблем', 'ставш', 'следств', 'порожда', 'е', 'правов', 'беспредел', 'имен', 'попытк', 'осуществ', 'скрыт', 'национализац', 'привел', 'окончательн', 'превращен', 'росс', 'мафиозн', 'государств', 'путин', 'леч', 'росс', 'вылеч']\n",
            "-----------------\n"
          ]
        }
      ],
      "metadata": {}
    },
    {
      "cell_type": "code",
      "execution_count": 109,
      "source": [
        "snowball = SnowballStemmer(language=\"russian\")\r\n",
        "russian_stop_words = stopwords.words(\"russian\")\r\n",
        "\r\n",
        "def tokenize_sentence(sentence: str, remove_stop_words: bool = True):\r\n",
        "    tokens = word_tokenize(sentence, language=\"russian\")\r\n",
        "    tokens = [i for i in tokens if i not in string.punctuation]\r\n",
        "    if remove_stop_words:\r\n",
        "        tokens = [i for i in tokens if i not in russian_stop_words]\r\n",
        "    tokens = [snowball.stem(i) for i in tokens]\r\n",
        "    return tokens"
      ],
      "outputs": [],
      "metadata": {}
    },
    {
      "cell_type": "code",
      "execution_count": 110,
      "source": [
        "tokenize_sentence(sentence_example)"
      ],
      "outputs": [
        {
          "output_type": "execute_result",
          "data": {
            "text/plain": [
              "['крив',\n",
              " 'национализац',\n",
              " 'эт',\n",
              " 'политическ',\n",
              " 'компромисс',\n",
              " 'с',\n",
              " 'одн',\n",
              " 'сторон',\n",
              " 'многочислен',\n",
              " 'рант',\n",
              " 'возникш',\n",
              " 'вследств',\n",
              " 'приватизац',\n",
              " 'сохран',\n",
              " 'возможн',\n",
              " 'дальш',\n",
              " 'получа',\n",
              " 'рент',\n",
              " 'этот',\n",
              " 'паразитическ',\n",
              " 'класс',\n",
              " 'существен',\n",
              " 'увелич',\n",
              " 'размер',\n",
              " 'пополн',\n",
              " 'многочислен',\n",
              " 'представител',\n",
              " 'силов',\n",
              " 'бюрократ',\n",
              " 'успевш',\n",
              " 'перв',\n",
              " 'раздач',\n",
              " 'с',\n",
              " 'сторон',\n",
              " 'преврат',\n",
              " 'условн',\n",
              " 'держател',\n",
              " 'актив',\n",
              " 'распоряжа',\n",
              " 'им',\n",
              " 'разрешен',\n",
              " 'правительств',\n",
              " 'котор',\n",
              " 'накладыва',\n",
              " 'разнообразн',\n",
              " 'обременен',\n",
              " 'социальн',\n",
              " 'коррупцион',\n",
              " 'характера.эт',\n",
              " 'уродлив',\n",
              " 'систем',\n",
              " 'основа',\n",
              " 'слегк',\n",
              " 'задрапирова',\n",
              " 'гол',\n",
              " 'насил',\n",
              " 'реш',\n",
              " 'одн',\n",
              " 'пробл',\n",
              " 'порожден',\n",
              " 'приватизац',\n",
              " 'добав',\n",
              " 'нов',\n",
              " 'проблем',\n",
              " 'ставш',\n",
              " 'следств',\n",
              " 'порожда',\n",
              " 'е',\n",
              " 'правов',\n",
              " 'беспредел',\n",
              " 'имен',\n",
              " 'попытк',\n",
              " 'осуществ',\n",
              " 'скрыт',\n",
              " 'национализац',\n",
              " 'привел',\n",
              " 'окончательн',\n",
              " 'превращен',\n",
              " 'росс',\n",
              " 'мафиозн',\n",
              " 'государств',\n",
              " 'путин',\n",
              " 'леч',\n",
              " 'росс',\n",
              " 'вылеч']"
            ]
          },
          "metadata": {},
          "execution_count": 110
        }
      ],
      "metadata": {}
    },
    {
      "cell_type": "code",
      "execution_count": 111,
      "source": [
        "vectorizer = TfidfVectorizer(tokenizer=lambda x: tokenize_sentence(x, remove_stop_words=True))"
      ],
      "outputs": [],
      "metadata": {}
    },
    {
      "cell_type": "code",
      "execution_count": 112,
      "source": [
        "features = vectorizer.fit_transform(train_df[\"comment\"].apply(lambda features: np.str_(features)))"
      ],
      "outputs": [],
      "metadata": {}
    },
    {
      "cell_type": "code",
      "execution_count": 113,
      "source": [
        "pd.isnull(train_df[\"type\"]).value_counts()"
      ],
      "outputs": [
        {
          "output_type": "execute_result",
          "data": {
            "text/plain": [
              "False    1423\n",
              "Name: type, dtype: int64"
            ]
          },
          "metadata": {},
          "execution_count": 113
        }
      ],
      "metadata": {}
    },
    {
      "cell_type": "code",
      "execution_count": 114,
      "source": [
        "model = LogisticRegression(random_state=0)\r\n",
        "model.fit(features, train_df[\"type\"])\r\n",
        "# model.fit(features, train_df[\"type\"])"
      ],
      "outputs": [
        {
          "output_type": "error",
          "ename": "ValueError",
          "evalue": "Unknown label type: 'unknown'",
          "traceback": [
            "\u001b[1;31m---------------------------------------------------------------------------\u001b[0m",
            "\u001b[1;31mValueError\u001b[0m                                Traceback (most recent call last)",
            "\u001b[1;32m<ipython-input-114-04f97dbd388b>\u001b[0m in \u001b[0;36m<module>\u001b[1;34m\u001b[0m\n\u001b[0;32m      1\u001b[0m \u001b[0mmodel\u001b[0m \u001b[1;33m=\u001b[0m \u001b[0mLogisticRegression\u001b[0m\u001b[1;33m(\u001b[0m\u001b[0mrandom_state\u001b[0m\u001b[1;33m=\u001b[0m\u001b[1;36m0\u001b[0m\u001b[1;33m)\u001b[0m\u001b[1;33m\u001b[0m\u001b[1;33m\u001b[0m\u001b[0m\n\u001b[1;32m----> 2\u001b[1;33m \u001b[0mmodel\u001b[0m\u001b[1;33m.\u001b[0m\u001b[0mfit\u001b[0m\u001b[1;33m(\u001b[0m\u001b[0mfeatures\u001b[0m\u001b[1;33m,\u001b[0m \u001b[0mtrain_df\u001b[0m\u001b[1;33m[\u001b[0m\u001b[1;34m\"type\"\u001b[0m\u001b[1;33m]\u001b[0m\u001b[1;33m)\u001b[0m\u001b[1;33m\u001b[0m\u001b[1;33m\u001b[0m\u001b[0m\n\u001b[0m\u001b[0;32m      3\u001b[0m \u001b[1;31m# model.fit(features, train_df[\"type\"])\u001b[0m\u001b[1;33m\u001b[0m\u001b[1;33m\u001b[0m\u001b[1;33m\u001b[0m\u001b[0m\n",
            "\u001b[1;32m~\\anaconda3\\lib\\site-packages\\sklearn\\linear_model\\_logistic.py\u001b[0m in \u001b[0;36mfit\u001b[1;34m(self, X, y, sample_weight)\u001b[0m\n\u001b[0;32m   1345\u001b[0m                                    \u001b[0morder\u001b[0m\u001b[1;33m=\u001b[0m\u001b[1;34m\"C\"\u001b[0m\u001b[1;33m,\u001b[0m\u001b[1;33m\u001b[0m\u001b[1;33m\u001b[0m\u001b[0m\n\u001b[0;32m   1346\u001b[0m                                    accept_large_sparse=solver != 'liblinear')\n\u001b[1;32m-> 1347\u001b[1;33m         \u001b[0mcheck_classification_targets\u001b[0m\u001b[1;33m(\u001b[0m\u001b[0my\u001b[0m\u001b[1;33m)\u001b[0m\u001b[1;33m\u001b[0m\u001b[1;33m\u001b[0m\u001b[0m\n\u001b[0m\u001b[0;32m   1348\u001b[0m         \u001b[0mself\u001b[0m\u001b[1;33m.\u001b[0m\u001b[0mclasses_\u001b[0m \u001b[1;33m=\u001b[0m \u001b[0mnp\u001b[0m\u001b[1;33m.\u001b[0m\u001b[0munique\u001b[0m\u001b[1;33m(\u001b[0m\u001b[0my\u001b[0m\u001b[1;33m)\u001b[0m\u001b[1;33m\u001b[0m\u001b[1;33m\u001b[0m\u001b[0m\n\u001b[0;32m   1349\u001b[0m \u001b[1;33m\u001b[0m\u001b[0m\n",
            "\u001b[1;32m~\\anaconda3\\lib\\site-packages\\sklearn\\utils\\multiclass.py\u001b[0m in \u001b[0;36mcheck_classification_targets\u001b[1;34m(y)\u001b[0m\n\u001b[0;32m    181\u001b[0m     if y_type not in ['binary', 'multiclass', 'multiclass-multioutput',\n\u001b[0;32m    182\u001b[0m                       'multilabel-indicator', 'multilabel-sequences']:\n\u001b[1;32m--> 183\u001b[1;33m         \u001b[1;32mraise\u001b[0m \u001b[0mValueError\u001b[0m\u001b[1;33m(\u001b[0m\u001b[1;34m\"Unknown label type: %r\"\u001b[0m \u001b[1;33m%\u001b[0m \u001b[0my_type\u001b[0m\u001b[1;33m)\u001b[0m\u001b[1;33m\u001b[0m\u001b[1;33m\u001b[0m\u001b[0m\n\u001b[0m\u001b[0;32m    184\u001b[0m \u001b[1;33m\u001b[0m\u001b[0m\n\u001b[0;32m    185\u001b[0m \u001b[1;33m\u001b[0m\u001b[0m\n",
            "\u001b[1;31mValueError\u001b[0m: Unknown label type: 'unknown'"
          ]
        }
      ],
      "metadata": {}
    }
  ],
  "metadata": {
    "language_info": {
      "name": "python",
      "version": "3.8.0",
      "mimetype": "text/x-python",
      "codemirror_mode": {
        "name": "ipython",
        "version": 3
      },
      "pygments_lexer": "ipython3",
      "nbconvert_exporter": "python",
      "file_extension": ".py"
    },
    "kernelspec": {
      "name": "python3",
      "display_name": "Python 3.8.0 64-bit ('base': conda)"
    },
    "interpreter": {
      "hash": "75384fd0ca3c2952361a90566c13d130cab84e43a6c89416ac57c7dceece1b2d"
    }
  },
  "nbformat": 4,
  "nbformat_minor": 2
}